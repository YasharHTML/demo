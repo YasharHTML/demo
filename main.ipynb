{
 "cells": [
  {
   "cell_type": "code",
   "execution_count": 40,
   "metadata": {},
   "outputs": [],
   "source": [
    "import numpy as np\n",
    "\n",
    "\n",
    "def naive(A, B):\n",
    "    length = len(A)\n",
    "    for k in range(length):\n",
    "        for i in range(k + 1, length):\n",
    "            factor = A[i][k] / A[k][k]\n",
    "\n",
    "            for j in range(k, length):\n",
    "                A[i][j] -= factor * A[k][j]\n",
    "            B[i] -= factor * B[k]\n",
    "\n",
    "    x = [0 for _ in range(length)]\n",
    "    for i in range(length - 1, -1, -1):\n",
    "        sum = 0\n",
    "        for j in range(i + 1, length):\n",
    "            sum += A[i][j] * x[j]\n",
    "        x[i] = (B[i] - sum) / A[i][i]\n",
    "    return x\n",
    "\n"
   ]
  },
  {
   "cell_type": "code",
   "execution_count": 43,
   "metadata": {},
   "outputs": [
    {
     "data": {
      "text/plain": [
       "array([3., 5., 4.])"
      ]
     },
     "execution_count": 43,
     "metadata": {},
     "output_type": "execute_result"
    }
   ],
   "source": [
    "\n",
    "A = np.array([[3, 2, -5], [2, -1, 3], [1, 2, -1]], dtype=float)\n",
    "B = np.transpose(np.array([-1, 13, 9], dtype=float))\n",
    "\n",
    "np.linalg.solve(A, B), naive(A, B)"
   ]
  },
  {
   "cell_type": "code",
   "execution_count": 46,
   "metadata": {},
   "outputs": [
    {
     "data": {
      "text/plain": [
       "[5.0, -1.0, -5.0]"
      ]
     },
     "execution_count": 46,
     "metadata": {},
     "output_type": "execute_result"
    }
   ],
   "source": [
    "\n",
    "A = np.array([[8, 7, 3], [-7, -4, -4], [-6, 5, -4]], dtype=float)\n",
    "B = np.transpose(np.array([18, -11, -15], dtype=float))\n",
    "\n",
    "np.linalg.solve(A, B), naive(A, B)"
   ]
  },
  {
   "cell_type": "code",
   "execution_count": 47,
   "metadata": {},
   "outputs": [
    {
     "data": {
      "text/plain": [
       "[-8.000000000000004,\n",
       " -4.999999999999998,\n",
       " -4.000000000000003,\n",
       " -7.0000000000000036]"
      ]
     },
     "execution_count": 47,
     "metadata": {},
     "output_type": "execute_result"
    }
   ],
   "source": [
    "A = np.array([[-9, 8, 6, 7], [-6, +3, -2, +6], [-4, -9, -7, -9], [3, 9, 8, 0]], dtype=float)\n",
    "B = np.transpose(np.array([-41, -1, 168, -101], dtype=float))\n",
    "\n",
    "np.linalg.solve(A, B), naive(A, B)"
   ]
  }
 ],
 "metadata": {
  "kernelspec": {
   "display_name": "Python 3",
   "language": "python",
   "name": "python3"
  },
  "language_info": {
   "codemirror_mode": {
    "name": "ipython",
    "version": 3
   },
   "file_extension": ".py",
   "mimetype": "text/x-python",
   "name": "python",
   "nbconvert_exporter": "python",
   "pygments_lexer": "ipython3",
   "version": "3.10.11"
  },
  "orig_nbformat": 4
 },
 "nbformat": 4,
 "nbformat_minor": 2
}
