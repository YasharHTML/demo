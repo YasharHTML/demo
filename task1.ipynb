{
 "cells": [
  {
   "cell_type": "code",
   "execution_count": 131,
   "metadata": {},
   "outputs": [],
   "source": [
    "import numpy as np\n",
    "\n",
    "def ppv_ge(A, B):\n",
    "    dim = len(B)\n",
    "\n",
    "    S = [max(x) for x in A]\n",
    "    L = np.array([i for i in range(1, dim + 1)])\n",
    "\n",
    "    for i in range(dim):\n",
    "        ratios = []\n",
    "        for j in range(dim):\n",
    "            ratios.append(np.abs(A[j][i]) / S[j])\n",
    "\n",
    "        max_index = i\n",
    "\n",
    "        for j in range(i, len(ratios)):\n",
    "            if ratios[max_index] < ratios[j]:\n",
    "                max_index = j\n",
    "        L[[i, max_index]] = L[[max_index, i]]\n",
    "\n",
    "        for j in range(dim - i - 1):\n",
    "            factor = A[j][i] / A[max_index][i]\n",
    "\n",
    "            A[j] -= factor * A[max_index]\n",
    "            B[j] -= factor * B[max_index]\n",
    "\n",
    "    x = np.zeros(dim)\n",
    "    for i in range(dim-1, -1, -1):\n",
    "        x[i] = B[L[i] - 1]\n",
    "        for j in range(dim - 1, i, -1):\n",
    "            x[i] -= A[L[i] - 1, j] * x[j]\n",
    "        x[i] /= A[L[i] - 1][i]\n",
    "\n",
    "    return x"
   ]
  },
  {
   "cell_type": "code",
   "execution_count": 132,
   "metadata": {},
   "outputs": [
    {
     "name": "stdout",
     "output_type": "stream",
     "text": [
      "[-0.32075472 -0.66037736  0.79245283]\n"
     ]
    },
    {
     "data": {
      "text/plain": [
       "array([-0.32075472, -0.66037736,  0.79245283])"
      ]
     },
     "execution_count": 132,
     "metadata": {},
     "output_type": "execute_result"
    }
   ],
   "source": [
    "# Task 1 \n",
    "A = np.array([[1, 4, 5], [2, 2, 5], [-4, 1, 3]], dtype=float)\n",
    "B = np.array([1, 2, 3], dtype=float)\n",
    "print(np.linalg.inv(A) @ B)\n",
    "ppv_ge(A, B)"
   ]
  }
 ],
 "metadata": {
  "kernelspec": {
   "display_name": "Python 3",
   "language": "python",
   "name": "python3"
  },
  "language_info": {
   "codemirror_mode": {
    "name": "ipython",
    "version": 3
   },
   "file_extension": ".py",
   "mimetype": "text/x-python",
   "name": "python",
   "nbconvert_exporter": "python",
   "pygments_lexer": "ipython3",
   "version": "3.10.11"
  },
  "orig_nbformat": 4
 },
 "nbformat": 4,
 "nbformat_minor": 2
}
