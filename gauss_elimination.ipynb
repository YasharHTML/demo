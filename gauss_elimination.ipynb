{
 "cells": [
  {
   "cell_type": "code",
   "execution_count": 79,
   "metadata": {},
   "outputs": [],
   "source": [
    "import matplotlib.pyplot as plt\n",
    "import numpy as np\n",
    "from math import *\n",
    "from numpy.linalg import inv "
   ]
  },
  {
   "cell_type": "code",
   "execution_count": 80,
   "metadata": {},
   "outputs": [
    {
     "data": {
      "text/plain": [
       "<function __main__.<lambda>(x, y, z, t)>"
      ]
     },
     "execution_count": 80,
     "metadata": {},
     "output_type": "execute_result"
    }
   ],
   "source": [
    "lambda x, y, z, t : 2*x + 5*y + 4*z + t - 20\n",
    "lambda x, y, z, t : x + 3*y + 2*z + t - 11\n",
    "lambda x, y, z, t : 2*x + 10*y + 9*z + 7*t - 40\n",
    "lambda x, y, z, t : 3*x + 8*y + 9*z + 2*t - 37"
   ]
  },
  {
   "cell_type": "code",
   "execution_count": 81,
   "metadata": {},
   "outputs": [],
   "source": [
    "def Gauss(A, B):\n",
    "    n = len(B)\n",
    "    X = np.zeros(n, dtype= float)\n",
    "    #forward elimination part\n",
    "    for k in range(n - 1):\n",
    "        for i in range(k + 1, n):\n",
    "            factor = A[i,k] / A[k,k]\n",
    "            for j in range(k, n):\n",
    "                A[i,j] = A[i,j] -  factor * A[k,j]\n",
    "            B[i] = B[i] - factor * B[k]                  \n",
    "    #backward substitution\n",
    "    X[n - 1] = B[n - 1] / A[n - 1, n - 1]\n",
    "    for i in range(n-2, -1, -1):\n",
    "        sum_ = 0\n",
    "        for j in range(i+1, n):\n",
    "            sum_ += A[i,j] * X[j]\n",
    "        X[i] = (B[i] - sum_) / A[i,i]\n",
    "        \n",
    "    return X"
   ]
  },
  {
   "cell_type": "code",
   "execution_count": 82,
   "metadata": {},
   "outputs": [
    {
     "name": "stdout",
     "output_type": "stream",
     "text": [
      "Augmented matrix of the system of linear equations:\n",
      "[[ 2.  5.  4.  1.]\n",
      " [ 1.  3.  2.  1.]\n",
      " [ 2. 10.  9.  7.]\n",
      " [ 3.  8.  9.  2.]]\n",
      "B matrix of the system of linear equations:\n",
      " [[20.]\n",
      " [11.]\n",
      " [40.]\n",
      " [37.]]\n",
      "Checking the roots: [[ 1.00000000e+00]\n",
      " [ 2.00000000e+00]\n",
      " [ 2.00000000e+00]\n",
      " [-1.60189322e-15]]\n",
      "Solution of system: \n",
      "[ 1.  2.  2. -0.]\n",
      "[[1.]\n",
      " [2.]\n",
      " [2.]\n",
      " [0.]]\n"
     ]
    }
   ],
   "source": [
    "A = np.array([[2, 5 ,4 , 1], [1, 3, 2, 1], [2, 10, 9, 7], [3, 8, 9, 2]], dtype=float)\n",
    "B = np.array([[20], [11], [40], [37]], dtype=float)\n",
    "print(f\"Augmented matrix of the system of linear equations:\\n{A}\")\n",
    "print(f\"B matrix of the system of linear equations:\\n {B}\")\n",
    "print(F\"Checking the roots: {np.linalg.solve(A,B)}\")\n",
    "print(f\"Solution of system: \\n{Gauss(A,B)}\")\n",
    "\n",
    "#print(F\"Checking the roots: {np.linalg.solve(A,B)}\")\n",
    "print(inv(A).dot(B))"
   ]
  },
  {
   "cell_type": "code",
   "execution_count": 83,
   "metadata": {},
   "outputs": [
    {
     "data": {
      "text/plain": [
       "array([20.,  1., 10.,  0.])"
      ]
     },
     "execution_count": 83,
     "metadata": {},
     "output_type": "execute_result"
    }
   ],
   "source": [
    "X = Gauss(A,B)\n",
    "np.matmul(A, X)"
   ]
  },
  {
   "cell_type": "code",
   "execution_count": 84,
   "metadata": {},
   "outputs": [
    {
     "data": {
      "text/plain": [
       "4"
      ]
     },
     "execution_count": 84,
     "metadata": {},
     "output_type": "execute_result"
    }
   ],
   "source": [
    "len(A)\n",
    "len(B)"
   ]
  }
 ],
 "metadata": {
  "kernelspec": {
   "display_name": "Python 3",
   "language": "python",
   "name": "python3"
  },
  "language_info": {
   "codemirror_mode": {
    "name": "ipython",
    "version": 3
   },
   "file_extension": ".py",
   "mimetype": "text/x-python",
   "name": "python",
   "nbconvert_exporter": "python",
   "pygments_lexer": "ipython3",
   "version": "3.11.3"
  },
  "orig_nbformat": 4
 },
 "nbformat": 4,
 "nbformat_minor": 2
}
