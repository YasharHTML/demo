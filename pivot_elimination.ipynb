{
 "cells": [
  {
   "cell_type": "code",
   "execution_count": null,
   "metadata": {},
   "outputs": [],
   "source": [
    "import matplotlib.pyplot as plt\n",
    "import numpy as np\n",
    "from math import *\n",
    "from numpy.linalg import inv "
   ]
  },
  {
   "cell_type": "code",
   "execution_count": 23,
   "metadata": {},
   "outputs": [],
   "source": [
    "def pivot(A, B):\n",
    "    n = len(B)\n",
    "    X = np.zeros(n, dtype=float)\n",
    "    S = np.array([np.max(abs(i)) for i in A], dtype=float)\n",
    "    L = np.array([i + 1 for i in range(n)], dtype=float)\n",
    "    \n",
    "    for k in range(n - 1):\n",
    "        if fabs(A[k,k]) <= 1.e-12:\n",
    "            for i in range(k + 1, n):\n",
    "                if A[k, i] > 1.e-12:\n",
    "                    A[[k, i]] = A[[i, k]]\n",
    "                    B[[k, i]] = B[[i, k]]\n",
    "                    break                \n",
    "        for i in range(k + 1, n):\n",
    "            factor = A[i,k] / A[k,k]\n",
    "            for j in range(k, n):\n",
    "                A[i,j] = A[i,j] -  factor * A[k,j]\n",
    "            B[i] = B[i] - factor * B[k]                  \n",
    "    #backward substitution\n",
    "    X[n - 1] = B[n - 1] / A[n - 1, n - 1]\n",
    "    for i in range(n-2, -1, -1):\n",
    "        sum_ = 0\n",
    "        for j in range(i+1, n):\n",
    "            sum_ += A[i,j] * X[j]\n",
    "        X[i] = (B[i] - sum_) / A[i,i]\n",
    "        \n",
    "    return X\n"
   ]
  },
  {
   "cell_type": "code",
   "execution_count": 24,
   "metadata": {},
   "outputs": [
    {
     "name": "stdout",
     "output_type": "stream",
     "text": [
      "Augmented matrix of the system of linear equations:\n",
      "[[ 0.  4.  6.]\n",
      " [ 4. -5.  6.]\n",
      " [ 3.  1. -2.]]\n",
      "B matrix of the system of linear equations:\n",
      " [18. 24.  4.]\n",
      "Checking the roots: \n",
      "[2.86238532 0.60550459 2.59633028]\n",
      "Solution of system: \n",
      "[2.86238532 0.60550459 2.59633028]\n"
     ]
    }
   ],
   "source": [
    "A = np.array([[0, 4, 6], [4, -5, 6], [3, 1, -2]], dtype = float)\n",
    "B = np.array([18, 24, 4], dtype = float)\n",
    "\n",
    "print(f\"Augmented matrix of the system of linear equations:\\n{A}\")\n",
    "print(f\"B matrix of the system of linear equations:\\n {B}\")\n",
    "\n",
    "print(F\"Checking the roots: \\n{np.linalg.solve(A,B)}\")\n",
    "\n",
    "print(f\"Solution of system: \\n{pivot(A,B)}\")\n"
   ]
  }
 ],
 "metadata": {
  "kernelspec": {
   "display_name": "base",
   "language": "python",
   "name": "python3"
  },
  "language_info": {
   "codemirror_mode": {
    "name": "ipython",
    "version": 3
   },
   "file_extension": ".py",
   "mimetype": "text/x-python",
   "name": "python",
   "nbconvert_exporter": "python",
   "pygments_lexer": "ipython3",
   "version": "3.11.5"
  },
  "orig_nbformat": 4
 },
 "nbformat": 4,
 "nbformat_minor": 2
}
